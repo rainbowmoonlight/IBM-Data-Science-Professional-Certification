{
 "cells": [
  {
   "cell_type": "markdown",
   "metadata": {
    "collapsed": true
   },
   "source": [
    "# The Battle of Neighborhoods \n",
    "## Finding Good Housing and Good School in North York, Toronto"
   ]
  },
  {
   "cell_type": "markdown",
   "metadata": {},
   "source": [
    "## Introduction:\n",
    "\n",
    "Many people are moving to various location in Canada. Before they move to a new city or state or country, they do a lot of research for good housing prices and good reputable school for children. They also want to live in good safe neighborhoods with easy access to grocery, hospital, mall, theater, cafe, park, museum, beach, public transportation, etc. \n",
    "\n",
    "This project is to help people finding good housing and good school in North York, Toronto. It will help people make a decision to choose a good neighborhood around the surrounding neighborhoods in North York, Toronto. \n",
    "\n",
    "The features analysis used are median housing price and school ratings, crime rates, road connectivity, weather conditions, and recreational facilities. \n",
    "\n",
    "\n",
    "## Location:\n",
    "North York is one of the best place in Canada to live in. First of all, the place is very convenient in terms of transportation. There are lot of transportation system that connects North York to the rest of Toronto and beyond. North York will give you an experience to a mouthwatering restaurants and cafe. Moreover, this place also have an abundance of shop, boutiques and malls that you can enjoy shopping. An all year round festival will give you feeling at home, where you have a chance to connect with people. The city is rich with historical landmarks. Lastly, a great education opportunities from elementary to college surrounds North York. \n",
    "\n",
    "\n",
    "## Foursquare API:\n",
    "This project use Foursquare API as data gathering source because it has database of millions of places, especially their places API which provides the ability to perform location search, location sharing and details about a business. Using credentials of Foursquare API features of nearby places with the number of places per neighborhood parameter be set to 100 and the radius parameter would be set to 500.\n",
    "\n",
    "\n",
    "## Clustering:\n",
    "This project will use clustering using K-means clustering algorithm to compare the similarities of two cities, segment them, and group them into clusters to find similar neighborhoods in a big city.\n",
    "\n",
    "## Libraries:\n",
    "- Pandas: For creating and manipulating dataframes.\n",
    "- Beautiful Soup and Requests: To scrap and library to handle http requests.\n",
    "- Matplotlib: Python Plotting Module.\n",
    "- JSON: Library to handle JSON files.\n",
    "- XML: To separate data from presentation and XML stores data in plain text format.\n",
    "- Folium: Python visualization library would be used to visualize the neighborhoods cluster distribution of using interactive leaflet map.\n",
    "- Geocoder: To retrieve Location Data.\n",
    "- Scikit Learn: For importing k-means clustering.\n",
    "\n",
    "\n",
    "\n",
    "\n",
    "\n",
    "\n",
    "\n",
    "\n",
    "\n"
   ]
  },
  {
   "cell_type": "code",
   "execution_count": null,
   "metadata": {},
   "outputs": [],
   "source": []
  }
 ],
 "metadata": {
  "kernelspec": {
   "display_name": "Python 3",
   "language": "python",
   "name": "python3"
  },
  "language_info": {
   "codemirror_mode": {
    "name": "ipython",
    "version": 3
   },
   "file_extension": ".py",
   "mimetype": "text/x-python",
   "name": "python",
   "nbconvert_exporter": "python",
   "pygments_lexer": "ipython3",
   "version": "3.8.3"
  }
 },
 "nbformat": 4,
 "nbformat_minor": 1
}
